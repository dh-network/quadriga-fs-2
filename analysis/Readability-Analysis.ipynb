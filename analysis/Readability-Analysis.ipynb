{
 "cells": [
  {
   "cell_type": "markdown",
   "id": "f9a69fbe-87d1-4602-b4ad-89a8248e27de",
   "metadata": {},
   "source": [
    "# Textkomplexität"
   ]
  },
  {
   "cell_type": "code",
   "execution_count": 3,
   "id": "79a39412-bdbd-45cb-a5d2-86f94105e8a4",
   "metadata": {},
   "outputs": [],
   "source": [
    "import pandas as pd\n",
    "from pathlib import Path"
   ]
  },
  {
   "cell_type": "code",
   "execution_count": 2,
   "id": "31d8534a-5310-4203-8c2c-7155c61e5081",
   "metadata": {},
   "outputs": [],
   "source": [
    "# https://pypi.org/project/readability/\n",
    "import readability"
   ]
  },
  {
   "cell_type": "code",
   "execution_count": null,
   "id": "2a7fdbf2-491b-4a7b-a59d-afc53b4d7544",
   "metadata": {},
   "outputs": [],
   "source": [
    "# https://pypi.org/project/textstat/\n",
    "import textstat\n",
    "textstat.set_lang(\"de\")"
   ]
  },
  {
   "cell_type": "markdown",
   "id": "0606f3ba-a80a-4a9f-9399-e063578c3164",
   "metadata": {},
   "source": [
    "### Read corpus and compute score"
   ]
  },
  {
   "cell_type": "code",
   "execution_count": 28,
   "id": "ad6a014d-c319-43bd-bab8-367dac241104",
   "metadata": {},
   "outputs": [],
   "source": [
    "text_dir = Path(\"../data/txt/\")"
   ]
  },
  {
   "cell_type": "code",
   "execution_count": 5,
   "id": "beffde14-82f7-4412-af74-00e558c88706",
   "metadata": {},
   "outputs": [],
   "source": [
    "corpus_texts = {}\n",
    "for fp in text_dir.iterdir():\n",
    "    corpus_texts[fp.name] = fp.read_text()"
   ]
  },
  {
   "cell_type": "code",
   "execution_count": 46,
   "id": "e96964cf-7939-4c05-aeaf-398d0aeed4dd",
   "metadata": {},
   "outputs": [],
   "source": [
    "# flesch score only (with textstat)\n",
    "corpus = {\"filename\":[], \"flesch_score\": []}\n",
    "for fp in text_dir.iterdir():\n",
    "    corpus[\"filename\"].append(fp.name)\n",
    "    corpus[\"flesch_score\"].append(textstat.flesch_reading_ease(fp.read_text()))"
   ]
  },
  {
   "cell_type": "code",
   "execution_count": 17,
   "id": "1a7c3980-94ba-44ec-b0f5-cc80fa2d4ef1",
   "metadata": {},
   "outputs": [],
   "source": [
    "# all scores in readability \n",
    "corpus = {\"filename\":[]}\n",
    "for fp in text_dir.iterdir():\n",
    "    corpus[\"filename\"].append(fp.name)\n",
    "    result = readability.getmeasures(fp.read_text(), lang='de')\n",
    "    for measure, score in result['readability grades'].items():\n",
    "        if measure not in corpus:\n",
    "            corpus[measure] = []\n",
    "        corpus[measure].append(score)"
   ]
  },
  {
   "cell_type": "code",
   "execution_count": null,
   "id": "6f841566-c08b-4166-8749-9e17c1d138d2",
   "metadata": {},
   "outputs": [],
   "source": [
    "corpus_df = pd.DataFrame(corpus)"
   ]
  },
  {
   "cell_type": "markdown",
   "id": "b3a73549-3625-4606-b626-09f9b966626d",
   "metadata": {},
   "source": [
    "### Read metadata"
   ]
  },
  {
   "cell_type": "code",
   "execution_count": 20,
   "id": "5a1797c3-6747-44b7-b0ad-d6ba763faaa1",
   "metadata": {},
   "outputs": [],
   "source": [
    "metadata_df = pd.read_csv(\"../data/metadata.csv\", sep=\",\")"
   ]
  },
  {
   "cell_type": "code",
   "execution_count": 36,
   "id": "ca184873-875f-434a-ab67-d7758879de6c",
   "metadata": {},
   "outputs": [
    {
     "data": {
      "text/html": [
       "<div>\n",
       "<style scoped>\n",
       "    .dataframe tbody tr th:only-of-type {\n",
       "        vertical-align: middle;\n",
       "    }\n",
       "\n",
       "    .dataframe tbody tr th {\n",
       "        vertical-align: top;\n",
       "    }\n",
       "\n",
       "    .dataframe thead tr th {\n",
       "        text-align: left;\n",
       "    }\n",
       "\n",
       "    .dataframe thead tr:last-of-type th {\n",
       "        text-align: right;\n",
       "    }\n",
       "</style>\n",
       "<table border=\"1\" class=\"dataframe\">\n",
       "  <thead>\n",
       "    <tr>\n",
       "      <th></th>\n",
       "      <th colspan=\"8\" halign=\"left\">id</th>\n",
       "    </tr>\n",
       "    <tr>\n",
       "      <th></th>\n",
       "      <th>count</th>\n",
       "      <th>mean</th>\n",
       "      <th>std</th>\n",
       "      <th>min</th>\n",
       "      <th>25%</th>\n",
       "      <th>50%</th>\n",
       "      <th>75%</th>\n",
       "      <th>max</th>\n",
       "    </tr>\n",
       "    <tr>\n",
       "      <th>date</th>\n",
       "      <th></th>\n",
       "      <th></th>\n",
       "      <th></th>\n",
       "      <th></th>\n",
       "      <th></th>\n",
       "      <th></th>\n",
       "      <th></th>\n",
       "      <th></th>\n",
       "    </tr>\n",
       "  </thead>\n",
       "  <tbody>\n",
       "    <tr>\n",
       "      <th>1993</th>\n",
       "      <td>1.0</td>\n",
       "      <td>8819.000000</td>\n",
       "      <td>NaN</td>\n",
       "      <td>8819.0</td>\n",
       "      <td>8819.00</td>\n",
       "      <td>8819.0</td>\n",
       "      <td>8819.00</td>\n",
       "      <td>8819.0</td>\n",
       "    </tr>\n",
       "    <tr>\n",
       "      <th>1995</th>\n",
       "      <td>2.0</td>\n",
       "      <td>8817.500000</td>\n",
       "      <td>0.707107</td>\n",
       "      <td>8817.0</td>\n",
       "      <td>8817.25</td>\n",
       "      <td>8817.5</td>\n",
       "      <td>8817.75</td>\n",
       "      <td>8818.0</td>\n",
       "    </tr>\n",
       "    <tr>\n",
       "      <th>1996</th>\n",
       "      <td>1.0</td>\n",
       "      <td>8816.000000</td>\n",
       "      <td>NaN</td>\n",
       "      <td>8816.0</td>\n",
       "      <td>8816.00</td>\n",
       "      <td>8816.0</td>\n",
       "      <td>8816.00</td>\n",
       "      <td>8816.0</td>\n",
       "    </tr>\n",
       "    <tr>\n",
       "      <th>1997</th>\n",
       "      <td>1.0</td>\n",
       "      <td>8815.000000</td>\n",
       "      <td>NaN</td>\n",
       "      <td>8815.0</td>\n",
       "      <td>8815.00</td>\n",
       "      <td>8815.0</td>\n",
       "      <td>8815.00</td>\n",
       "      <td>8815.0</td>\n",
       "    </tr>\n",
       "    <tr>\n",
       "      <th>1998</th>\n",
       "      <td>1.0</td>\n",
       "      <td>8814.000000</td>\n",
       "      <td>NaN</td>\n",
       "      <td>8814.0</td>\n",
       "      <td>8814.00</td>\n",
       "      <td>8814.0</td>\n",
       "      <td>8814.00</td>\n",
       "      <td>8814.0</td>\n",
       "    </tr>\n",
       "    <tr>\n",
       "      <th>2000</th>\n",
       "      <td>3.0</td>\n",
       "      <td>8812.000000</td>\n",
       "      <td>1.000000</td>\n",
       "      <td>8811.0</td>\n",
       "      <td>8811.50</td>\n",
       "      <td>8812.0</td>\n",
       "      <td>8812.50</td>\n",
       "      <td>8813.0</td>\n",
       "    </tr>\n",
       "    <tr>\n",
       "      <th>2001</th>\n",
       "      <td>1.0</td>\n",
       "      <td>8810.000000</td>\n",
       "      <td>NaN</td>\n",
       "      <td>8810.0</td>\n",
       "      <td>8810.00</td>\n",
       "      <td>8810.0</td>\n",
       "      <td>8810.00</td>\n",
       "      <td>8810.0</td>\n",
       "    </tr>\n",
       "    <tr>\n",
       "      <th>2004</th>\n",
       "      <td>1.0</td>\n",
       "      <td>8809.000000</td>\n",
       "      <td>NaN</td>\n",
       "      <td>8809.0</td>\n",
       "      <td>8809.00</td>\n",
       "      <td>8809.0</td>\n",
       "      <td>8809.00</td>\n",
       "      <td>8809.0</td>\n",
       "    </tr>\n",
       "    <tr>\n",
       "      <th>2005</th>\n",
       "      <td>2.0</td>\n",
       "      <td>8807.500000</td>\n",
       "      <td>0.707107</td>\n",
       "      <td>8807.0</td>\n",
       "      <td>8807.25</td>\n",
       "      <td>8807.5</td>\n",
       "      <td>8807.75</td>\n",
       "      <td>8808.0</td>\n",
       "    </tr>\n",
       "    <tr>\n",
       "      <th>2006</th>\n",
       "      <td>3.0</td>\n",
       "      <td>8805.000000</td>\n",
       "      <td>1.000000</td>\n",
       "      <td>8804.0</td>\n",
       "      <td>8804.50</td>\n",
       "      <td>8805.0</td>\n",
       "      <td>8805.50</td>\n",
       "      <td>8806.0</td>\n",
       "    </tr>\n",
       "    <tr>\n",
       "      <th>2008</th>\n",
       "      <td>3.0</td>\n",
       "      <td>8802.000000</td>\n",
       "      <td>1.000000</td>\n",
       "      <td>8801.0</td>\n",
       "      <td>8801.50</td>\n",
       "      <td>8802.0</td>\n",
       "      <td>8802.50</td>\n",
       "      <td>8803.0</td>\n",
       "    </tr>\n",
       "    <tr>\n",
       "      <th>2009</th>\n",
       "      <td>3.0</td>\n",
       "      <td>8799.000000</td>\n",
       "      <td>1.000000</td>\n",
       "      <td>8798.0</td>\n",
       "      <td>8798.50</td>\n",
       "      <td>8799.0</td>\n",
       "      <td>8799.50</td>\n",
       "      <td>8800.0</td>\n",
       "    </tr>\n",
       "    <tr>\n",
       "      <th>2010</th>\n",
       "      <td>3.0</td>\n",
       "      <td>8796.000000</td>\n",
       "      <td>1.000000</td>\n",
       "      <td>8795.0</td>\n",
       "      <td>8795.50</td>\n",
       "      <td>8796.0</td>\n",
       "      <td>8796.50</td>\n",
       "      <td>8797.0</td>\n",
       "    </tr>\n",
       "    <tr>\n",
       "      <th>2011</th>\n",
       "      <td>1122.0</td>\n",
       "      <td>8233.500000</td>\n",
       "      <td>324.037806</td>\n",
       "      <td>7673.0</td>\n",
       "      <td>7953.25</td>\n",
       "      <td>8233.5</td>\n",
       "      <td>8513.75</td>\n",
       "      <td>8794.0</td>\n",
       "    </tr>\n",
       "    <tr>\n",
       "      <th>2012</th>\n",
       "      <td>1234.0</td>\n",
       "      <td>7055.500000</td>\n",
       "      <td>356.369424</td>\n",
       "      <td>6439.0</td>\n",
       "      <td>6747.25</td>\n",
       "      <td>7055.5</td>\n",
       "      <td>7363.75</td>\n",
       "      <td>7672.0</td>\n",
       "    </tr>\n",
       "    <tr>\n",
       "      <th>2013</th>\n",
       "      <td>1263.0</td>\n",
       "      <td>5807.000000</td>\n",
       "      <td>364.741004</td>\n",
       "      <td>5176.0</td>\n",
       "      <td>5491.50</td>\n",
       "      <td>5807.0</td>\n",
       "      <td>6122.50</td>\n",
       "      <td>6438.0</td>\n",
       "    </tr>\n",
       "    <tr>\n",
       "      <th>2014</th>\n",
       "      <td>1056.0</td>\n",
       "      <td>4647.500000</td>\n",
       "      <td>304.985246</td>\n",
       "      <td>4120.0</td>\n",
       "      <td>4383.75</td>\n",
       "      <td>4647.5</td>\n",
       "      <td>4911.25</td>\n",
       "      <td>5175.0</td>\n",
       "    </tr>\n",
       "    <tr>\n",
       "      <th>2015</th>\n",
       "      <td>1060.0</td>\n",
       "      <td>3589.464151</td>\n",
       "      <td>306.201723</td>\n",
       "      <td>3056.0</td>\n",
       "      <td>3324.75</td>\n",
       "      <td>3589.5</td>\n",
       "      <td>3854.25</td>\n",
       "      <td>4119.0</td>\n",
       "    </tr>\n",
       "    <tr>\n",
       "      <th>2016</th>\n",
       "      <td>900.0</td>\n",
       "      <td>2609.056667</td>\n",
       "      <td>260.458512</td>\n",
       "      <td>2159.0</td>\n",
       "      <td>2383.75</td>\n",
       "      <td>2609.5</td>\n",
       "      <td>2834.25</td>\n",
       "      <td>3069.0</td>\n",
       "    </tr>\n",
       "    <tr>\n",
       "      <th>2017</th>\n",
       "      <td>1144.0</td>\n",
       "      <td>1585.691434</td>\n",
       "      <td>330.892949</td>\n",
       "      <td>1011.0</td>\n",
       "      <td>1299.75</td>\n",
       "      <td>1585.5</td>\n",
       "      <td>1872.25</td>\n",
       "      <td>2158.0</td>\n",
       "    </tr>\n",
       "    <tr>\n",
       "      <th>2018</th>\n",
       "      <td>3314.0</td>\n",
       "      <td>635.798733</td>\n",
       "      <td>354.373869</td>\n",
       "      <td>0.0</td>\n",
       "      <td>348.25</td>\n",
       "      <td>624.5</td>\n",
       "      <td>901.00</td>\n",
       "      <td>1439.0</td>\n",
       "    </tr>\n",
       "    <tr>\n",
       "      <th>2019</th>\n",
       "      <td>8016.0</td>\n",
       "      <td>13364.438872</td>\n",
       "      <td>19090.689980</td>\n",
       "      <td>0.0</td>\n",
       "      <td>1786.75</td>\n",
       "      <td>3791.5</td>\n",
       "      <td>5795.25</td>\n",
       "      <td>48767.0</td>\n",
       "    </tr>\n",
       "    <tr>\n",
       "      <th>2020</th>\n",
       "      <td>9720.0</td>\n",
       "      <td>42031.910905</td>\n",
       "      <td>2834.449710</td>\n",
       "      <td>2290.0</td>\n",
       "      <td>39605.75</td>\n",
       "      <td>42035.5</td>\n",
       "      <td>44465.25</td>\n",
       "      <td>46895.0</td>\n",
       "    </tr>\n",
       "    <tr>\n",
       "      <th>2021</th>\n",
       "      <td>10142.0</td>\n",
       "      <td>24299.328732</td>\n",
       "      <td>6083.288165</td>\n",
       "      <td>746.0</td>\n",
       "      <td>20000.25</td>\n",
       "      <td>22535.5</td>\n",
       "      <td>25070.75</td>\n",
       "      <td>37176.0</td>\n",
       "    </tr>\n",
       "    <tr>\n",
       "      <th>2022</th>\n",
       "      <td>9860.0</td>\n",
       "      <td>12535.500000</td>\n",
       "      <td>2846.481161</td>\n",
       "      <td>7606.0</td>\n",
       "      <td>10070.75</td>\n",
       "      <td>12535.5</td>\n",
       "      <td>15000.25</td>\n",
       "      <td>17465.0</td>\n",
       "    </tr>\n",
       "    <tr>\n",
       "      <th>2023</th>\n",
       "      <td>9883.0</td>\n",
       "      <td>10798.348072</td>\n",
       "      <td>12934.845424</td>\n",
       "      <td>0.0</td>\n",
       "      <td>2470.50</td>\n",
       "      <td>4941.0</td>\n",
       "      <td>7411.50</td>\n",
       "      <td>35305.0</td>\n",
       "    </tr>\n",
       "    <tr>\n",
       "      <th>2024</th>\n",
       "      <td>7293.0</td>\n",
       "      <td>29382.000000</td>\n",
       "      <td>2105.452089</td>\n",
       "      <td>25736.0</td>\n",
       "      <td>27559.00</td>\n",
       "      <td>29382.0</td>\n",
       "      <td>31205.00</td>\n",
       "      <td>33028.0</td>\n",
       "    </tr>\n",
       "  </tbody>\n",
       "</table>\n",
       "</div>"
      ],
      "text/plain": [
       "           id                                                          \\\n",
       "        count          mean           std      min       25%      50%   \n",
       "date                                                                    \n",
       "1993      1.0   8819.000000           NaN   8819.0   8819.00   8819.0   \n",
       "1995      2.0   8817.500000      0.707107   8817.0   8817.25   8817.5   \n",
       "1996      1.0   8816.000000           NaN   8816.0   8816.00   8816.0   \n",
       "1997      1.0   8815.000000           NaN   8815.0   8815.00   8815.0   \n",
       "1998      1.0   8814.000000           NaN   8814.0   8814.00   8814.0   \n",
       "2000      3.0   8812.000000      1.000000   8811.0   8811.50   8812.0   \n",
       "2001      1.0   8810.000000           NaN   8810.0   8810.00   8810.0   \n",
       "2004      1.0   8809.000000           NaN   8809.0   8809.00   8809.0   \n",
       "2005      2.0   8807.500000      0.707107   8807.0   8807.25   8807.5   \n",
       "2006      3.0   8805.000000      1.000000   8804.0   8804.50   8805.0   \n",
       "2008      3.0   8802.000000      1.000000   8801.0   8801.50   8802.0   \n",
       "2009      3.0   8799.000000      1.000000   8798.0   8798.50   8799.0   \n",
       "2010      3.0   8796.000000      1.000000   8795.0   8795.50   8796.0   \n",
       "2011   1122.0   8233.500000    324.037806   7673.0   7953.25   8233.5   \n",
       "2012   1234.0   7055.500000    356.369424   6439.0   6747.25   7055.5   \n",
       "2013   1263.0   5807.000000    364.741004   5176.0   5491.50   5807.0   \n",
       "2014   1056.0   4647.500000    304.985246   4120.0   4383.75   4647.5   \n",
       "2015   1060.0   3589.464151    306.201723   3056.0   3324.75   3589.5   \n",
       "2016    900.0   2609.056667    260.458512   2159.0   2383.75   2609.5   \n",
       "2017   1144.0   1585.691434    330.892949   1011.0   1299.75   1585.5   \n",
       "2018   3314.0    635.798733    354.373869      0.0    348.25    624.5   \n",
       "2019   8016.0  13364.438872  19090.689980      0.0   1786.75   3791.5   \n",
       "2020   9720.0  42031.910905   2834.449710   2290.0  39605.75  42035.5   \n",
       "2021  10142.0  24299.328732   6083.288165    746.0  20000.25  22535.5   \n",
       "2022   9860.0  12535.500000   2846.481161   7606.0  10070.75  12535.5   \n",
       "2023   9883.0  10798.348072  12934.845424      0.0   2470.50   4941.0   \n",
       "2024   7293.0  29382.000000   2105.452089  25736.0  27559.00  29382.0   \n",
       "\n",
       "                         \n",
       "           75%      max  \n",
       "date                     \n",
       "1993   8819.00   8819.0  \n",
       "1995   8817.75   8818.0  \n",
       "1996   8816.00   8816.0  \n",
       "1997   8815.00   8815.0  \n",
       "1998   8814.00   8814.0  \n",
       "2000   8812.50   8813.0  \n",
       "2001   8810.00   8810.0  \n",
       "2004   8809.00   8809.0  \n",
       "2005   8807.75   8808.0  \n",
       "2006   8805.50   8806.0  \n",
       "2008   8802.50   8803.0  \n",
       "2009   8799.50   8800.0  \n",
       "2010   8796.50   8797.0  \n",
       "2011   8513.75   8794.0  \n",
       "2012   7363.75   7672.0  \n",
       "2013   6122.50   6438.0  \n",
       "2014   4911.25   5175.0  \n",
       "2015   3854.25   4119.0  \n",
       "2016   2834.25   3069.0  \n",
       "2017   1872.25   2158.0  \n",
       "2018    901.00   1439.0  \n",
       "2019   5795.25  48767.0  \n",
       "2020  44465.25  46895.0  \n",
       "2021  25070.75  37176.0  \n",
       "2022  15000.25  17465.0  \n",
       "2023   7411.50  35305.0  \n",
       "2024  31205.00  33028.0  "
      ]
     },
     "execution_count": 36,
     "metadata": {},
     "output_type": "execute_result"
    }
   ],
   "source": [
    "# get overview\n",
    "metadata_df.groupby(pd.PeriodIndex(metadata_df['date'], freq=\"Y\")).describe()"
   ]
  },
  {
   "cell_type": "code",
   "execution_count": 21,
   "id": "a02f05e2-168c-448d-9fcb-f5bf3b5e70e1",
   "metadata": {},
   "outputs": [],
   "source": [
    "metadata_df = metadata_df.merge(corpus_df)"
   ]
  },
  {
   "cell_type": "code",
   "execution_count": 24,
   "id": "ca15c9f3-82f7-4dd8-84cc-0d118aa254aa",
   "metadata": {},
   "outputs": [
    {
     "data": {
      "text/html": [
       "<div>\n",
       "<style scoped>\n",
       "    .dataframe tbody tr th:only-of-type {\n",
       "        vertical-align: middle;\n",
       "    }\n",
       "\n",
       "    .dataframe tbody tr th {\n",
       "        vertical-align: top;\n",
       "    }\n",
       "\n",
       "    .dataframe thead th {\n",
       "        text-align: right;\n",
       "    }\n",
       "</style>\n",
       "<table border=\"1\" class=\"dataframe\">\n",
       "  <thead>\n",
       "    <tr style=\"text-align: right;\">\n",
       "      <th></th>\n",
       "      <th>id</th>\n",
       "      <th>url</th>\n",
       "      <th>date</th>\n",
       "      <th>title</th>\n",
       "      <th>filename</th>\n",
       "      <th>Kincaid</th>\n",
       "      <th>ARI</th>\n",
       "      <th>Coleman-Liau</th>\n",
       "      <th>FleschReadingEase</th>\n",
       "      <th>GunningFogIndex</th>\n",
       "      <th>LIX</th>\n",
       "      <th>SMOGIndex</th>\n",
       "      <th>RIX</th>\n",
       "      <th>DaleChallIndex</th>\n",
       "    </tr>\n",
       "  </thead>\n",
       "  <tbody>\n",
       "    <tr>\n",
       "      <th>0</th>\n",
       "      <td>5849</td>\n",
       "      <td>https://www.berlin.de/ba-spandau/aktuelles/pre...</td>\n",
       "      <td>2023-03-10</td>\n",
       "      <td>Die Spandauer Jugendjury geht in die nächste R...</td>\n",
       "      <td>2023-03-10_id5849.txt</td>\n",
       "      <td>36.690256</td>\n",
       "      <td>45.679038</td>\n",
       "      <td>18.910521</td>\n",
       "      <td>-29.061923</td>\n",
       "      <td>35.046154</td>\n",
       "      <td>115.179487</td>\n",
       "      <td>18.000000</td>\n",
       "      <td>29.0</td>\n",
       "      <td>14.084467</td>\n",
       "    </tr>\n",
       "    <tr>\n",
       "      <th>1</th>\n",
       "      <td>37162</td>\n",
       "      <td>https://www.berlin.de/polizei/polizeimeldungen...</td>\n",
       "      <td>2021-01-03</td>\n",
       "      <td>Mann vermutlich mit Messer verletzt</td>\n",
       "      <td>2021-01-03_id37162.txt</td>\n",
       "      <td>33.162482</td>\n",
       "      <td>41.613885</td>\n",
       "      <td>19.094887</td>\n",
       "      <td>-18.908939</td>\n",
       "      <td>32.979856</td>\n",
       "      <td>105.471223</td>\n",
       "      <td>19.431677</td>\n",
       "      <td>25.0</td>\n",
       "      <td>13.217945</td>\n",
       "    </tr>\n",
       "    <tr>\n",
       "      <th>2</th>\n",
       "      <td>7720</td>\n",
       "      <td>https://www.berlin.de/ba-marzahn-hellersdorf/a...</td>\n",
       "      <td>2011-12-13</td>\n",
       "      <td>Bezirk beschreitet neue Wege zur Realisierung ...</td>\n",
       "      <td>2011-12-13_id7720.txt</td>\n",
       "      <td>75.242045</td>\n",
       "      <td>95.097614</td>\n",
       "      <td>19.644275</td>\n",
       "      <td>-130.910682</td>\n",
       "      <td>75.172727</td>\n",
       "      <td>210.375000</td>\n",
       "      <td>28.099801</td>\n",
       "      <td>60.5</td>\n",
       "      <td>18.242492</td>\n",
       "    </tr>\n",
       "    <tr>\n",
       "      <th>3</th>\n",
       "      <td>5931</td>\n",
       "      <td>https://www.berlin.de/ba-marzahn-hellersdorf/a...</td>\n",
       "      <td>2013-05-21</td>\n",
       "      <td>Auch im Bienengarten wird am 01. Juni Kinderta...</td>\n",
       "      <td>2013-05-21_id5931.txt</td>\n",
       "      <td>26.720243</td>\n",
       "      <td>32.259903</td>\n",
       "      <td>18.504190</td>\n",
       "      <td>-4.781189</td>\n",
       "      <td>23.318447</td>\n",
       "      <td>86.451456</td>\n",
       "      <td>13.246951</td>\n",
       "      <td>18.0</td>\n",
       "      <td>13.549347</td>\n",
       "    </tr>\n",
       "    <tr>\n",
       "      <th>4</th>\n",
       "      <td>2679</td>\n",
       "      <td>https://www.berlin.de/ba-marzahn-hellersdorf/a...</td>\n",
       "      <td>2016-05-30</td>\n",
       "      <td>Offene Kirche am Sonntag</td>\n",
       "      <td>2016-05-30_id2679.txt</td>\n",
       "      <td>54.195612</td>\n",
       "      <td>68.137673</td>\n",
       "      <td>19.308771</td>\n",
       "      <td>-75.307398</td>\n",
       "      <td>51.938776</td>\n",
       "      <td>155.561224</td>\n",
       "      <td>19.431677</td>\n",
       "      <td>40.5</td>\n",
       "      <td>16.221847</td>\n",
       "    </tr>\n",
       "  </tbody>\n",
       "</table>\n",
       "</div>"
      ],
      "text/plain": [
       "      id                                                url       date  \\\n",
       "0   5849  https://www.berlin.de/ba-spandau/aktuelles/pre... 2023-03-10   \n",
       "1  37162  https://www.berlin.de/polizei/polizeimeldungen... 2021-01-03   \n",
       "2   7720  https://www.berlin.de/ba-marzahn-hellersdorf/a... 2011-12-13   \n",
       "3   5931  https://www.berlin.de/ba-marzahn-hellersdorf/a... 2013-05-21   \n",
       "4   2679  https://www.berlin.de/ba-marzahn-hellersdorf/a... 2016-05-30   \n",
       "\n",
       "                                               title                filename  \\\n",
       "0  Die Spandauer Jugendjury geht in die nächste R...   2023-03-10_id5849.txt   \n",
       "1                Mann vermutlich mit Messer verletzt  2021-01-03_id37162.txt   \n",
       "2  Bezirk beschreitet neue Wege zur Realisierung ...   2011-12-13_id7720.txt   \n",
       "3  Auch im Bienengarten wird am 01. Juni Kinderta...   2013-05-21_id5931.txt   \n",
       "4                           Offene Kirche am Sonntag   2016-05-30_id2679.txt   \n",
       "\n",
       "     Kincaid        ARI  Coleman-Liau  FleschReadingEase  GunningFogIndex  \\\n",
       "0  36.690256  45.679038     18.910521         -29.061923        35.046154   \n",
       "1  33.162482  41.613885     19.094887         -18.908939        32.979856   \n",
       "2  75.242045  95.097614     19.644275        -130.910682        75.172727   \n",
       "3  26.720243  32.259903     18.504190          -4.781189        23.318447   \n",
       "4  54.195612  68.137673     19.308771         -75.307398        51.938776   \n",
       "\n",
       "          LIX  SMOGIndex   RIX  DaleChallIndex  \n",
       "0  115.179487  18.000000  29.0       14.084467  \n",
       "1  105.471223  19.431677  25.0       13.217945  \n",
       "2  210.375000  28.099801  60.5       18.242492  \n",
       "3   86.451456  13.246951  18.0       13.549347  \n",
       "4  155.561224  19.431677  40.5       16.221847  "
      ]
     },
     "execution_count": 24,
     "metadata": {},
     "output_type": "execute_result"
    }
   ],
   "source": [
    "metadata_df.head()"
   ]
  },
  {
   "cell_type": "code",
   "execution_count": null,
   "id": "91823444-072e-4d2c-b8a0-ac33082d3703",
   "metadata": {},
   "outputs": [],
   "source": [
    "metadata_df.to_csv(\"metadata_with_scores.csv\", index=False)"
   ]
  },
  {
   "cell_type": "markdown",
   "id": "374f69fb-c6b3-4fa5-84f0-b8b8d51c0e4b",
   "metadata": {},
   "source": [
    "### Analyse"
   ]
  },
  {
   "cell_type": "code",
   "execution_count": 25,
   "id": "8782f8cb-5e2f-4e67-ac5e-ce4815b145a2",
   "metadata": {},
   "outputs": [],
   "source": [
    "metadata_df['date'] = pd.to_datetime(metadata_df['date'])"
   ]
  },
  {
   "cell_type": "code",
   "execution_count": 28,
   "id": "4c6f02bc-0ff8-4916-8a60-580ede023132",
   "metadata": {},
   "outputs": [
    {
     "data": {
      "text/plain": [
       "<Axes: xlabel='date'>"
      ]
     },
     "execution_count": 28,
     "metadata": {},
     "output_type": "execute_result"
    },
    {
     "data": {
      "image/png": "[encoded data removed]",
      "text/plain": [
       "<Figure size 640x480 with 1 Axes>"
      ]
     },
     "metadata": {},
     "output_type": "display_data"
    }
   ],
   "source": [
    "# with textstat scores\n",
    "metadata_df.plot(x=\"date\", y=\"flesch_score\", kind=\"bar\")"
   ]
  },
  {
   "cell_type": "code",
   "execution_count": 29,
   "id": "c0edaba8-2f49-456e-b53c-39f88db4a5fc",
   "metadata": {},
   "outputs": [
    {
     "data": {
      "text/plain": [
       "<Axes: xlabel='date'>"
      ]
     },
     "execution_count": 29,
     "metadata": {},
     "output_type": "execute_result"
    },
    {
     "data": {
      "image/png": "[encoded data removed]",
      "text/plain": [
       "<Figure size 640x480 with 1 Axes>"
      ]
     },
     "metadata": {},
     "output_type": "display_data"
    }
   ],
   "source": [
    "metadata_df.groupby(pd.PeriodIndex(metadata_df['date'], freq=\"M\"))['flesch_score'].mean().plot(kind=\"bar\")"
   ]
  },
  {
   "cell_type": "code",
   "execution_count": 30,
   "id": "f80a315f-32f6-45a6-a252-c8e01905d8ea",
   "metadata": {},
   "outputs": [
    {
     "data": {
      "text/plain": [
       "<Axes: xlabel='date'>"
      ]
     },
     "execution_count": 30,
     "metadata": {},
     "output_type": "execute_result"
    },
    {
     "data": {
      "image/png": "[encoded data removed]",
      "text/plain": [
       "<Figure size 640x480 with 1 Axes>"
      ]
     },
     "metadata": {},
     "output_type": "display_data"
    }
   ],
   "source": [
    "metadata_df.groupby(pd.PeriodIndex(metadata_df['date'], freq=\"Y\"))['flesch_score'].mean().plot(kind=\"bar\")"
   ]
  },
  {
   "cell_type": "code",
   "execution_count": 27,
   "id": "3494f550-0f29-4f86-97dc-3641abcd0e4e",
   "metadata": {},
   "outputs": [
    {
     "data": {
      "text/plain": [
       "<Axes: xlabel='date'>"
      ]
     },
     "execution_count": 27,
     "metadata": {},
     "output_type": "execute_result"
    },
    {
     "data": {
      "image/png": "[encoded data removed]",
      "text/plain": [
       "<Figure size 640x480 with 1 Axes>"
      ]
     },
     "metadata": {},
     "output_type": "display_data"
    }
   ],
   "source": [
    "metadata_df.groupby(pd.PeriodIndex(metadata_df['date'], freq=\"M\"))['ARI'].mean().plot(kind=\"bar\")"
   ]
  },
  {
   "cell_type": "markdown",
   "id": "5bfdb6d7-4a5b-43cc-8c04-2af3f73e91fd",
   "metadata": {},
   "source": [
    "### Was \"Leichte Sprache\" discussed at some point?"
   ]
  },
  {
   "cell_type": "code",
   "execution_count": 39,
   "id": "976dd3d8-49f4-4e8c-9686-c2e604bf9534",
   "metadata": {},
   "outputs": [],
   "source": [
    "mentions_simplified = []\n",
    "for fp, text in corpus_texts.items():\n",
    "    if \"leichte Sprache\" in text:\n",
    "        mentions_simplified.append(fp)"
   ]
  },
  {
   "cell_type": "code",
   "execution_count": 40,
   "id": "6c96d8c7-01a5-4daf-9da9-815ee362b950",
   "metadata": {},
   "outputs": [
    {
     "data": {
      "text/plain": [
       "4"
      ]
     },
     "execution_count": 40,
     "metadata": {},
     "output_type": "execute_result"
    }
   ],
   "source": [
    "len(mentions_simplified)"
   ]
  },
  {
   "cell_type": "code",
   "execution_count": 41,
   "id": "c6746d96-e1df-4c0e-809f-a011bb3ade95",
   "metadata": {},
   "outputs": [
    {
     "data": {
      "text/plain": [
       "['2018-10-02_id873.txt',\n",
       " '2021-05-28_id23791.txt',\n",
       " '2020-06-03_id42694.txt',\n",
       " '2019-02-01_id5490.txt']"
      ]
     },
     "execution_count": 41,
     "metadata": {},
     "output_type": "execute_result"
    }
   ],
   "source": [
    "mentions_simplified"
   ]
  },
  {
   "cell_type": "code",
   "execution_count": 42,
   "id": "380b43c7-bf5d-4b62-ba9f-e296796d749a",
   "metadata": {},
   "outputs": [
    {
     "data": {
      "text/plain": [
       "'Mitte präsentiert sich jetzt auch online barrierefrei – Webauftritt des Bezirksamts in leichter Sprache\\nDer Bezirksbürgermeister von Mitte, Stephan von Dassel, informiert: Nach den Bezirken Friedrichshain-Kreuzberg, Treptow-Köpenick und Neukölln bietet nun auch das Bezirksamt Mitte seinen Webauftritt zusätzlich in leichter Sprache an. Damit wird die Internetpräsenz des Bezirksamtes für eine weitere große Gruppe von Menschen leichter und einfacher nutzbar. Hierzu zählen Menschen mit kognitiven Beeinträchtigungen, funktionale Analphabetinnen und Analphabeten, aber auch Menschen, die aus unterschiedlichen Gründen über eine geringe Kompetenz in der deutschen Sprache verfügen. „Mit dem Angebot in leichter Sprache sind wir wieder einen Schritt weiter in unserem Bemühen, als Bezirksamt für alle Menschen da zu sein. Wir wollen, dass jede Bürgerin und jeder Bürger in Mitte aktiv und möglichst selbstständig am gesellschaftlichen Leben teilhaben kann. Unsere Webseiten in leichter Sprache leisten dazu einen Beitrag“, sagt Stephan von Dassel. Neben einem kurzen Überblick über Bezirk und Bezirksamt wurden inhaltlich zunächst die bezirklichen Dienstleistungen der Bürgerämter, des Sozialamts und der Bereiche Jugend und Gesundheit in den barrierefreien Auftritt integriert. Es geht vor allem darum, dass sich Menschen mit Lernschwierigkeiten leicht und ohne (große) zusätzliche Hilfe orientieren können. Dazu wurden spezielle Nutzer-Tipps und ein Wörterbuch in leichter Sprache angelegt. Eine verlinkte A-Z-Themenliste bringt den Nutzer gleich zur richtigen Unterseite. Die bezirkliche Webseite in Leichter Sprache ist über den Link https://www.berlin.de/ba-mitte/de-plain/ erreichbar. Die Webseite kann auch direkt von der Startseite des Bezirksamtes Mitte über das entsprechende Icon für leichte Sprache aufgerufen werden. Es ist beabsichtigt, das Angebot schrittweise weiter auszubauen. Medienkontakt: Bezirksamt Mitte, Pressestelle, E-Mail: presse@ba-mitte.berlin.de'"
      ]
     },
     "execution_count": 42,
     "metadata": {},
     "output_type": "execute_result"
    }
   ],
   "source": [
    "corpus_texts['2018-10-02_id873.txt']"
   ]
  },
  {
   "cell_type": "code",
   "execution_count": null,
   "id": "71d24545-86ac-46f4-96ea-d35a18d9a508",
   "metadata": {},
   "outputs": [],
   "source": []
  }
 ],
 "metadata": {
  "kernelspec": {
   "display_name": "Python 3 (ipykernel)",
   "language": "python",
   "name": "python3"
  },
  "language_info": {
   "codemirror_mode": {
    "name": "ipython",
    "version": 3
   },
   "file_extension": ".py",
   "mimetype": "text/x-python",
   "name": "python",
   "nbconvert_exporter": "python",
   "pygments_lexer": "ipython3",
   "version": "3.11.3"
  }
 },
 "nbformat": 4,
 "nbformat_minor": 5
}
