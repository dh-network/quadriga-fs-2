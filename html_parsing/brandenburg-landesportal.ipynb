{
 "cells": [
  {
   "cell_type": "markdown",
   "id": "bf6d59ea-f1e3-451d-9ecf-d75067fff96d",
   "metadata": {},
   "source": [
    "# Experimente zu Fallstudie 2: Repräsentanz Landesregierungen\n",
    "\n",
    "## 1. Ansatz: Abgebildeter Text "
   ]
  },
  {
   "cell_type": "code",
   "execution_count": null,
   "id": "8d3ad649-705e-4d05-892a-55e95d5c7f2d",
   "metadata": {},
   "outputs": [],
   "source": [
    "from urllib.parse import urlparse\n",
    "import json\n",
    "\n",
    "import requests\n",
    "from bs4 import BeautifulSoup\n",
    "from bs4.element import Comment, Tag"
   ]
  },
  {
   "cell_type": "code",
   "execution_count": null,
   "id": "9b403508-f699-4658-98c0-d7351b63e1a9",
   "metadata": {},
   "outputs": [],
   "source": [
    "brandenburg_URL = \"https://www.brandenburg.de/\""
   ]
  },
  {
   "cell_type": "code",
   "execution_count": null,
   "id": "6df19b5d-5b1c-4f13-bd3e-c9705df6711b",
   "metadata": {},
   "outputs": [],
   "source": [
    "html = requests.get(brandenburg_URL).text"
   ]
  },
  {
   "cell_type": "code",
   "execution_count": null,
   "id": "9b251f2e-89e3-4801-8a7a-050508ffeb3e",
   "metadata": {},
   "outputs": [],
   "source": [
    "soup = BeautifulSoup(html)"
   ]
  },
  {
   "cell_type": "code",
   "execution_count": null,
   "id": "9a5d8de9-5367-4e03-ba9b-f49d03461551",
   "metadata": {},
   "outputs": [],
   "source": [
    "# https://stackoverflow.com/questions/1936466/how-to-scrape-only-visible-webpage-text-with-beautifulsoup\n",
    "\n",
    "# Only get text that is visible on the website \n",
    "# Inlcudes ads, pointers to more info and so on \n",
    "\n",
    "def tag_visible(element):\n",
    "    if element.parent.name in ['style', 'script', 'head', 'title', 'meta', '[document]']:\n",
    "        return False\n",
    "    if isinstance(element, Comment):\n",
    "        return False\n",
    "    return True\n",
    "\n",
    "def text_from_html(soup):\n",
    "    texts = soup.findAll(string=True)\n",
    "    visible_texts = filter(tag_visible, texts)  \n",
    "    return [t.strip() for t in visible_texts if len(t) > 1]"
   ]
  },
  {
   "cell_type": "code",
   "execution_count": null,
   "id": "c3d7e6f5-8743-496d-854f-e828f4f7cf88",
   "metadata": {},
   "outputs": [],
   "source": [
    "text = text_from_html(soup)"
   ]
  },
  {
   "cell_type": "code",
   "execution_count": null,
   "id": "da03acf6-565b-4b83-bef3-b427547f6115",
   "metadata": {},
   "outputs": [],
   "source": [
    "text"
   ]
  },
  {
   "cell_type": "markdown",
   "id": "add88af0-4587-41c8-96e7-943da51192eb",
   "metadata": {},
   "source": [
    "### 1.2 Potentieller nächster Schritt: Filter\n",
    "* all upper and short (DE, EN, PL)\n",
    "* Ansprachen: \"Sie sind\" (start of text)\n",
    "* Mehr Informationen\n",
    "* Foto:\n",
    "* weiterlesen\n",
    "* alles nach \"Links\""
   ]
  },
  {
   "cell_type": "markdown",
   "id": "dee18517-605f-48ff-b864-c401232c9438",
   "metadata": {},
   "source": [
    "## 2. Ansatz: Strukturiertes Parsen\n",
    "\n",
    "#### Nachteile von Ansatz 1\n",
    "* Nicht nur Text, sondern auch Struktur von Website und Metadaten sind abgebildet (Impressum, Foto) \n",
    "* Die Links sind verloren gegangen\n",
    "* Der Text ist unstrukturiert\n",
    "\n",
    "#### Neuer Ansatz\n",
    "* Für jeden Teilbereich der Seite eine spezialisierte Funktion schreiben, die die Daten strukturiert sammelt\n",
    "* Links werden auch gesammelt und werden auch abgefragt"
   ]
  },
  {
   "cell_type": "code",
   "execution_count": null,
   "id": "afb500e2-8baf-457b-a5d8-23d5cd59f0e7",
   "metadata": {},
   "outputs": [],
   "source": [
    "# parse gallery (slider)\n",
    "gallery = []\n",
    "\n",
    "for h2 in soup.find_all(\"h2\"):\n",
    "    # check if h2 is part of gallery or \"Aktuell\" / \"Themenschwerpunkte\"\n",
    "    if h2.string not in [\"Aktuell\", \"Themenschwerpunkte\"]:\n",
    "        entry = {}\n",
    "        entry[\"title\"] = h2.string\n",
    "        entry[\"description\"] = h2.find_next_sibling(\"h3\", {\"class\":\"description\"}).string\n",
    "        entry[\"article_link\"] = urlparse(h2.find_next_sibling(\"a\").get(\"href\"))\n",
    "        gallery.append(entry)"
   ]
  },
  {
   "cell_type": "code",
   "execution_count": null,
   "id": "af056c94-57b0-4422-9faa-9abb3f875c5c",
   "metadata": {},
   "outputs": [],
   "source": [
    "gallery"
   ]
  },
  {
   "cell_type": "code",
   "execution_count": null,
   "id": "c86c005f-9cc5-4b81-b010-b19d53599879",
   "metadata": {},
   "outputs": [],
   "source": [
    "# parse aktuell\n",
    "aktuell = []\n",
    "h2 = soup.find(\"h2\", string=\"Aktuell\")\n",
    "\n",
    "for ul in h2.find_next(\"ul\"):\n",
    "    entry = {}\n",
    "    if type(ul) is Tag:\n",
    "        entry[\"Bereich\"] = ul.find_next(\"h5\").string\n",
    "        entry[\"title\"] = ul.find_next(\"h3\").string\n",
    "        teaser = ul.find_next(\"p\")\n",
    "        links = teaser.findChildren(\"a\")\n",
    "        if len(links) == 1:\n",
    "            entry[\"article_link\"] = urlparse(links[0].get(\"href\"))\n",
    "        # getText loses Fettung \n",
    "        entry[\"description\"] = ul.find_next(\"p\").getText()\n",
    "        aktuell.append(entry)"
   ]
  },
  {
   "cell_type": "code",
   "execution_count": null,
   "id": "c965cdc0-a5b8-4644-8803-dae7298689b5",
   "metadata": {},
   "outputs": [],
   "source": [
    "aktuell"
   ]
  },
  {
   "cell_type": "code",
   "execution_count": null,
   "id": "03a5b357-8e1d-42c2-9c05-0a456d9829dd",
   "metadata": {},
   "outputs": [],
   "source": [
    "# parse Themenschwerpunkte\n",
    "themenschwerpunkte = []\n",
    "themenschwerpunkte_div = soup.find(\"div\", {\"class\":\"gallery-sp\"})\n",
    "\n",
    "for a in themenschwerpunkte_div.find_all(\"a\"):\n",
    "    entry = {}\n",
    "    entry[\"article_link\"] = urlparse(a.get(\"href\"))\n",
    "    entry[\"title\"] = a.find(\"h4\").string\n",
    "    entry[\"description\"] = a.find(\"p\").getText()\n",
    "    themenschwerpunkte.append(entry)"
   ]
  },
  {
   "cell_type": "code",
   "execution_count": null,
   "id": "b28d3c83-e985-479a-864d-84a8a9665fd7",
   "metadata": {},
   "outputs": [],
   "source": [
    "themenschwerpunkte"
   ]
  },
  {
   "cell_type": "code",
   "execution_count": null,
   "id": "7a350ef7-dce9-4764-97f5-c7d4b8e01ac8",
   "metadata": {},
   "outputs": [],
   "source": [
    "landesportal = {\n",
    "    \"gallery\":gallery,\n",
    "    \"aktuell\": aktuell,\n",
    "    \"themenschwerpunkte\": themenschwerpunkte\n",
    "}"
   ]
  },
  {
   "cell_type": "code",
   "execution_count": null,
   "id": "c08473c7-954a-4ca9-b727-0742bc5010fa",
   "metadata": {},
   "outputs": [],
   "source": [
    "landesportal[\"gallery\"][0][\"article_link\"].geturl()"
   ]
  },
  {
   "cell_type": "markdown",
   "id": "c65e372a-bdbd-4f86-b013-aa6298ed6567",
   "metadata": {},
   "source": [
    "### Follow links\n",
    "* Links, die auf brandenburg.de enden\n",
    "* Startseite wurde strukturiert geparsed, die verlinkten Seite sind noch messy"
   ]
  },
  {
   "cell_type": "code",
   "execution_count": null,
   "id": "832555de-54ce-40b1-9c2b-8fda5bc5e5a3",
   "metadata": {},
   "outputs": [],
   "source": [
    "def parse_pressemitteilung(html):\n",
    "    soup = BeautifulSoup(html)\n",
    "    text = [soup.title.string]\n",
    "    p = soup.find_all(\"p\")\n",
    "    text.extend([entry.string for entry in p if entry.string is not None])\n",
    "    return text"
   ]
  },
  {
   "cell_type": "code",
   "execution_count": null,
   "id": "255d4287-7426-4a58-9619-026b0be4f238",
   "metadata": {},
   "outputs": [],
   "source": [
    "for section, values in landesportal.items():\n",
    "    for entry in values:\n",
    "        if \"article_link\" in entry and entry[\"article_link\"].netloc.endswith(\"brandenburg.de\"):\n",
    "            html = requests.get(entry[\"article_link\"].geturl()).text\n",
    "            text = parse_pressemitteilung(html)\n",
    "            entry[\"text\"] = text"
   ]
  },
  {
   "cell_type": "code",
   "execution_count": null,
   "id": "03e4c880-e41e-40d1-9ddf-bba037140457",
   "metadata": {},
   "outputs": [],
   "source": [
    "landesportal"
   ]
  },
  {
   "cell_type": "markdown",
   "id": "d987e7a6-4ee7-4651-9621-e2f6ffd53b81",
   "metadata": {},
   "source": [
    "### Ergebnis als JSON "
   ]
  },
  {
   "cell_type": "code",
   "execution_count": null,
   "id": "269c4349-5edd-4a6d-9749-d019ed295979",
   "metadata": {},
   "outputs": [],
   "source": [
    "from datetime import datetime"
   ]
  },
  {
   "cell_type": "code",
   "execution_count": null,
   "id": "843963ae-6764-4b70-8c57-637f582a91ac",
   "metadata": {},
   "outputs": [],
   "source": [
    "datetime.now().strftime(\"%Y-%m-%d\")"
   ]
  },
  {
   "cell_type": "code",
   "execution_count": null,
   "id": "45f28b74-1a48-45fa-9245-1ae345c4bfc7",
   "metadata": {},
   "outputs": [],
   "source": [
    "with open(datetime.now().strftime(\"%Y-%m-%d\") + \"_landesportal.json\", 'w') as json_out:\n",
    "    json.dump(landesportal, json_out)"
   ]
  }
 ],
 "metadata": {
  "kernelspec": {
   "display_name": "Python 3 (ipykernel)",
   "language": "python",
   "name": "python3"
  },
  "language_info": {
   "codemirror_mode": {
    "name": "ipython",
    "version": 3
   },
   "file_extension": ".py",
   "mimetype": "text/x-python",
   "name": "python",
   "nbconvert_exporter": "python",
   "pygments_lexer": "ipython3",
   "version": "3.11.3"
  }
 },
 "nbformat": 4,
 "nbformat_minor": 5
}
