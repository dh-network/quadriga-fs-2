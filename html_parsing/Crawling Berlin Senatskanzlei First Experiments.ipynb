{
 "cells": [
  {
   "cell_type": "code",
   "execution_count": 1,
   "id": "600d3ffe",
   "metadata": {},
   "outputs": [],
   "source": [
    "import requests"
   ]
  },
  {
   "cell_type": "code",
   "execution_count": 11,
   "id": "6e94ceb8",
   "metadata": {},
   "outputs": [],
   "source": [
    "from bs4 import BeautifulSoup"
   ]
  },
  {
   "cell_type": "markdown",
   "id": "08044f02",
   "metadata": {},
   "source": [
    "### Retrieve and save HTML"
   ]
  },
  {
   "cell_type": "code",
   "execution_count": 2,
   "id": "8319d8b7",
   "metadata": {},
   "outputs": [],
   "source": [
    "url = \"https://www.berlin.de/rbmskzl/\""
   ]
  },
  {
   "cell_type": "code",
   "execution_count": 3,
   "id": "c640ecf8",
   "metadata": {},
   "outputs": [],
   "source": [
    "response = requests.get(url)"
   ]
  },
  {
   "cell_type": "code",
   "execution_count": 5,
   "id": "af2263bb",
   "metadata": {},
   "outputs": [
    {
     "data": {
      "text/plain": [
       "200"
      ]
     },
     "execution_count": 5,
     "metadata": {},
     "output_type": "execute_result"
    }
   ],
   "source": [
    "response.status_code"
   ]
  },
  {
   "cell_type": "code",
   "execution_count": 6,
   "id": "cb5d0a5a",
   "metadata": {},
   "outputs": [],
   "source": [
    "html_text = response.text"
   ]
  },
  {
   "cell_type": "code",
   "execution_count": 7,
   "id": "75f83b6f",
   "metadata": {},
   "outputs": [
    {
     "data": {
      "text/plain": [
       "'<!doctype html>\\n<html xmlns=\"http://www.w3.org/1999/xhtml\" xml:lang=\"de\" lang=\"de\">\\n<head prefix=\"og'"
      ]
     },
     "execution_count": 7,
     "metadata": {},
     "output_type": "execute_result"
    }
   ],
   "source": [
    "html_text[:100]"
   ]
  },
  {
   "cell_type": "code",
   "execution_count": 9,
   "id": "2e731fd9",
   "metadata": {},
   "outputs": [],
   "source": [
    "with open('berlin_rbmskzl_main_page.html', 'w') as openfile:\n",
    "    openfile.write(html_text)"
   ]
  },
  {
   "cell_type": "markdown",
   "id": "e4f554e8",
   "metadata": {},
   "source": [
    "### Parse HTML (strukturierte parsen, one page)"
   ]
  },
  {
   "cell_type": "code",
   "execution_count": 31,
   "id": "09a1b437",
   "metadata": {},
   "outputs": [],
   "source": [
    "with open('berlin_rbmskzl_main_page.html') as openfile:\n",
    "    html_text = openfile.read()"
   ]
  },
  {
   "cell_type": "code",
   "execution_count": 32,
   "id": "46a114e3",
   "metadata": {},
   "outputs": [],
   "source": [
    "soup = BeautifulSoup(html_text)"
   ]
  },
  {
   "cell_type": "markdown",
   "id": "81b004b8",
   "metadata": {},
   "source": [
    "#### 1. Parse the top news section of the website\n",
    "\n",
    "![berlin_de_top](berlin_de_top.png)"
   ]
  },
  {
   "cell_type": "markdown",
   "id": "d1da3659",
   "metadata": {},
   "source": [
    "If we inspect the unredlying HTML code, we'll see that it is in a `<div>` element with a CSS class `'herounit-homepage herounit-homepage--default'`. Let's retrieve this div using BeautifulSoup syntax:"
   ]
  },
  {
   "cell_type": "code",
   "execution_count": 41,
   "id": "cb944c77",
   "metadata": {},
   "outputs": [],
   "source": [
    "topdiv = soup.find(\"div\", {\"class\": \"herounit-homepage herounit-homepage--default\"})"
   ]
  },
  {
   "cell_type": "code",
   "execution_count": 43,
   "id": "011c4adb",
   "metadata": {},
   "outputs": [
    {
     "data": {
      "text/plain": [
       "bs4.element.Tag"
      ]
     },
     "execution_count": 43,
     "metadata": {},
     "output_type": "execute_result"
    }
   ],
   "source": [
    "type(topdiv)"
   ]
  },
  {
   "cell_type": "code",
   "execution_count": 46,
   "id": "eeefa88c",
   "metadata": {},
   "outputs": [
    {
     "name": "stdout",
     "output_type": "stream",
     "text": [
      "<div class=\"herounit-homepage herounit-homepage--default\">\n",
      " <h1 class=\"title\">\n",
      "  Der Regierende Bürgermeister von Berlin - Senatskanzlei\n",
      " </h1>\n",
      " <div class=\"modul-buehne buehne--tileslayout\">\n",
      "  <ul class=\"buhne__list--teaser\">\n",
      "   <li>\n",
      "    <div class=\"modul-teaser_buehne\" data-add-clickable-area=\"smart\">\n",
      "     <div class=\"teaser_buehne__left\">\n",
      "      <div class=\"image\">\n",
      "       <!-- Image.view -->\n",
      "       <div class=\"image__image image__image\" style=\"\">\n",
      "        <img alt=\"Senat vor Ort in Treptow-Köpenick am 17.09.2024\" class=\"jpg\" data-orig=\"/rbmskzl/aktuelles/media/crop_nan_434.51666259765625_nan_104.48333740234375_807_539_fb29c4e3675dfc82ec843890a273ff2a_dsc05599.jpg\" loading=\"lazy\" src=\"/imgscaler/rBvs_FtS1ShRICRId3iJPDG_OaSxawMMyEJ7Ryf_vrg/rbig2zu1/L3N5czExLXByb2QvcmJtc2t6bC9ha3R1ZWxsZXMvbWVkaWEvY3JvcF9uYW5fNDM0LjUxNjY2MjU5NzY1NjI1X25hbl8xMDQuNDgzMzM3NDAyMzQzNzVfODA3XzUzOV9mYjI5YzRlMzY3NWRmYzgyZWM4NDM4OTBhMjczZmYyYV9kc2MwNTU5OS5qcGc.jpg?ts=1726737769\"/>\n",
      "       </div>\n",
      "       <p class=\"image__copyright\">\n",
      "        Bild: Senatskanzlei / Xenia Günther\n",
      "       </p>\n",
      "       <!-- /Image.view -->\n",
      "      </div>\n",
      "     </div>\n",
      "     <div class=\"teaser_buehne__right\">\n",
      "      <div class=\"inner\">\n",
      "       <h2 class=\"title\">\n",
      "        Senat vor Ort in Treptow-Köpenick\n",
      "       </h2>\n",
      "       <p class=\"text\">\n",
      "        Nach einer gemeinsamen Sitzung begaben sich der Regierende Bürgermeister Kai Wegner und Bezirksbürgermeister Oliver Igel mit Mitgliedern des Senats und des Bezirksamts auf Tour durch den Bezirk.\n",
      "       </p>\n",
      "       <span class=\"action\">\n",
      "        <a aria-label=\"Link zu: Senat vor Ort in Treptow-Köpenick\" class=\"more\" href=\"/rbmskzl/aktuelles/media/senat-vor-ort-berliner-senat-zu-besuch-im-bezirk-treptow-koepenick-1486599.php\" title=\"Senat vor Ort in Treptow-Köpenick\">\n",
      "         Weitere Informationen\n",
      "        </a>\n",
      "       </span>\n",
      "       <span class=\"image__copyright\">\n",
      "        <strong>\n",
      "         Bild:\n",
      "        </strong>\n",
      "        Senatskanzlei / Xenia Günther\n",
      "       </span>\n",
      "      </div>\n",
      "     </div>\n",
      "     <li>\n",
      "      <div class=\"modul-teasertile_buehne\" data-add-clickable-area=\"full\">\n",
      "       <h2 class=\"title\">\n",
      "        Kai Wegner vor Ort\n",
      "       </h2>\n",
      "       <p class=\"text\">\n",
      "        Der Regierende Bürgermeister besuchte am 16. September den Bezirk Steglitz-Zehlendorf und stellte sich den Fragen der Berlinerinnen und Berliner.\n",
      "       </p>\n",
      "       <span class=\"action\">\n",
      "        <a aria-label=\"Link zu: Kai Wegner vor Ort\" class=\"more\" href=\"/rbmskzl/aktuelles/media/kai-wegner-vor-ort-in-steglitz-zehlendorf-1486596.php\" title=\"Kai Wegner vor Ort\">\n",
      "         Weitere Informationen\n",
      "        </a>\n",
      "       </span>\n",
      "      </div>\n",
      "     </li>\n",
      "     <li>\n",
      "      <div class=\"modul-teasertile_buehne\" data-add-clickable-area=\"full\">\n",
      "       <h2 class=\"title\">\n",
      "        Neue Imagekampagne\n",
      "       </h2>\n",
      "       <p class=\"text\">\n",
      "        Berlin startet eine neue bundesweite Imagekampagne. Ziel ist es, das Gemeinschaftsgefühl der Stadt zu stärken und national für Berlin zu werben.\n",
      "       </p>\n",
      "       <span class=\"action\">\n",
      "        <a aria-label=\"Link zu: Neue Imagekampagne \" class=\"more\" href=\"/rbmskzl/aktuelles/pressemitteilungen/2024/pressemitteilung.1481932.php\" title=\"Neue Imagekampagne \">\n",
      "         Weitere Informationen\n",
      "        </a>\n",
      "       </span>\n",
      "      </div>\n",
      "     </li>\n",
      "     <li>\n",
      "      <div class=\"modul-teasertile_buehne\" data-add-clickable-area=\"full\">\n",
      "       <h2 class=\"title\">\n",
      "        Fokusthemen\n",
      "       </h2>\n",
      "       <p class=\"text\">\n",
      "        Berlin steht vor diversen gesellschaftlichen Herausforderungen. Der Berliner Senat setzt einen Fokus auf sechs Themenschwerpunkte.\n",
      "       </p>\n",
      "       <span class=\"action\">\n",
      "        <a aria-label=\"Link zu: Fokusthemen\" class=\"more\" href=\"/rbmskzl/fokusthemen/\" title=\"Fokusthemen\">\n",
      "         Weitere Informationen\n",
      "        </a>\n",
      "       </span>\n",
      "      </div>\n",
      "     </li>\n",
      "    </div>\n",
      "   </li>\n",
      "  </ul>\n",
      " </div>\n",
      "</div>\n",
      "\n"
     ]
    }
   ],
   "source": [
    "print(topdiv.prettify())"
   ]
  },
  {
   "cell_type": "code",
   "execution_count": 62,
   "id": "d37511e7",
   "metadata": {},
   "outputs": [],
   "source": [
    "topdiv_h2titles = topdiv.find_all('h2')"
   ]
  },
  {
   "cell_type": "code",
   "execution_count": 63,
   "id": "b4c79857",
   "metadata": {},
   "outputs": [
    {
     "data": {
      "text/plain": [
       "[<h2 class=\"title\">Senat vor Ort in Treptow-Köpenick</h2>,\n",
       " <h2 class=\"title\">Kai Wegner vor Ort</h2>,\n",
       " <h2 class=\"title\">Neue Imagekampagne </h2>,\n",
       " <h2 class=\"title\">Fokusthemen</h2>]"
      ]
     },
     "execution_count": 63,
     "metadata": {},
     "output_type": "execute_result"
    }
   ],
   "source": [
    "topdiv_h2titles"
   ]
  },
  {
   "cell_type": "code",
   "execution_count": 64,
   "id": "b441ce54",
   "metadata": {},
   "outputs": [],
   "source": [
    "topdiv_texts =  topdiv.find_all('p', {\"class\":\"text\"})"
   ]
  },
  {
   "cell_type": "code",
   "execution_count": 65,
   "id": "6a267be6",
   "metadata": {},
   "outputs": [
    {
     "data": {
      "text/plain": [
       "[<p class=\"text\">\n",
       "                     Nach einer gemeinsamen Sitzung begaben sich der Regierende Bürgermeister Kai Wegner und Bezirksbürgermeister Oliver Igel mit Mitgliedern des Senats und des Bezirksamts auf Tour durch den Bezirk.                        </p>,\n",
       " <p class=\"text\">\n",
       "                 Der Regierende Bürgermeister besuchte am 16. September den Bezirk Steglitz-Zehlendorf und stellte sich den Fragen der Berlinerinnen und Berliner.                        </p>,\n",
       " <p class=\"text\">\n",
       "                 Berlin startet eine neue bundesweite Imagekampagne. Ziel ist es, das Gemeinschaftsgefühl der Stadt zu stärken und national für Berlin zu werben.                        </p>,\n",
       " <p class=\"text\">\n",
       "                 Berlin steht vor diversen gesellschaftlichen Herausforderungen. Der Berliner Senat setzt einen Fokus auf sechs Themenschwerpunkte.                        </p>]"
      ]
     },
     "execution_count": 65,
     "metadata": {},
     "output_type": "execute_result"
    }
   ],
   "source": [
    "topdiv_texts"
   ]
  },
  {
   "cell_type": "code",
   "execution_count": 66,
   "id": "8646b49a",
   "metadata": {},
   "outputs": [],
   "source": [
    "topdiv_texts = [x.text.strip() for x in topdiv_texts]"
   ]
  },
  {
   "cell_type": "code",
   "execution_count": 67,
   "id": "e308d9c8",
   "metadata": {},
   "outputs": [
    {
     "data": {
      "text/plain": [
       "['Nach einer gemeinsamen Sitzung begaben sich der Regierende Bürgermeister Kai Wegner und Bezirksbürgermeister Oliver Igel mit Mitgliedern des Senats und des Bezirksamts auf Tour durch den Bezirk.',\n",
       " 'Der Regierende Bürgermeister besuchte am 16. September den Bezirk Steglitz-Zehlendorf und stellte sich den Fragen der Berlinerinnen und Berliner.',\n",
       " 'Berlin startet eine neue bundesweite Imagekampagne. Ziel ist es, das Gemeinschaftsgefühl der Stadt zu stärken und national für Berlin zu werben.',\n",
       " 'Berlin steht vor diversen gesellschaftlichen Herausforderungen. Der Berliner Senat setzt einen Fokus auf sechs Themenschwerpunkte.']"
      ]
     },
     "execution_count": 67,
     "metadata": {},
     "output_type": "execute_result"
    }
   ],
   "source": [
    "topdiv_texts"
   ]
  },
  {
   "cell_type": "code",
   "execution_count": 68,
   "id": "fb26468a",
   "metadata": {},
   "outputs": [],
   "source": [
    "topdiv_h2titles = [x.text.strip() for x in topdiv_h2titles]"
   ]
  },
  {
   "cell_type": "code",
   "execution_count": 69,
   "id": "df720ad9",
   "metadata": {},
   "outputs": [],
   "source": [
    "resulting_data = []\n",
    "\n",
    "for i, text in enumerate(topdiv_texts):\n",
    "    new_entry = {}\n",
    "    new_entry['title'] = topdiv_h2titles[i]\n",
    "    new_entry['text'] = text\n",
    "    resulting_data.append(new_entry)"
   ]
  },
  {
   "cell_type": "code",
   "execution_count": 70,
   "id": "3596bd6d",
   "metadata": {},
   "outputs": [
    {
     "data": {
      "text/plain": [
       "[{'title': 'Senat vor Ort in Treptow-Köpenick',\n",
       "  'text': 'Nach einer gemeinsamen Sitzung begaben sich der Regierende Bürgermeister Kai Wegner und Bezirksbürgermeister Oliver Igel mit Mitgliedern des Senats und des Bezirksamts auf Tour durch den Bezirk.'},\n",
       " {'title': 'Kai Wegner vor Ort',\n",
       "  'text': 'Der Regierende Bürgermeister besuchte am 16. September den Bezirk Steglitz-Zehlendorf und stellte sich den Fragen der Berlinerinnen und Berliner.'},\n",
       " {'title': 'Neue Imagekampagne',\n",
       "  'text': 'Berlin startet eine neue bundesweite Imagekampagne. Ziel ist es, das Gemeinschaftsgefühl der Stadt zu stärken und national für Berlin zu werben.'},\n",
       " {'title': 'Fokusthemen',\n",
       "  'text': 'Berlin steht vor diversen gesellschaftlichen Herausforderungen. Der Berliner Senat setzt einen Fokus auf sechs Themenschwerpunkte.'}]"
      ]
     },
     "execution_count": 70,
     "metadata": {},
     "output_type": "execute_result"
    }
   ],
   "source": [
    "resulting_data"
   ]
  },
  {
   "cell_type": "markdown",
   "id": "912346be",
   "metadata": {},
   "source": [
    "### Parse HTML for links"
   ]
  },
  {
   "cell_type": "code",
   "execution_count": 71,
   "id": "5dc72051",
   "metadata": {},
   "outputs": [],
   "source": [
    "links = soup.find_all('a', href=True)"
   ]
  },
  {
   "cell_type": "code",
   "execution_count": 72,
   "id": "0feaf415",
   "metadata": {},
   "outputs": [
    {
     "data": {
      "text/plain": [
       "<a href=\"/rbmskzl\" title='Startseite von \"Der Regierende Bürgermeister Senatskanzlei\"'><span class=\"institution\">Der Regierende Bürgermeister</span><span class=\"title\">Senatskanzlei</span></a>"
      ]
     },
     "execution_count": 72,
     "metadata": {},
     "output_type": "execute_result"
    }
   ],
   "source": [
    "links[1]"
   ]
  },
  {
   "cell_type": "markdown",
   "id": "3852ca72",
   "metadata": {},
   "source": [
    "Separate internal and external links"
   ]
  },
  {
   "cell_type": "code",
   "execution_count": 73,
   "id": "06f65b86",
   "metadata": {},
   "outputs": [],
   "source": [
    "internal_links = []\n",
    "external_links = []\n",
    "\n",
    "for link in links:\n",
    "    link_url = link['href']\n",
    "    if link_url.startswith('/'):\n",
    "        internal_links.append(link_url)\n",
    "    else:\n",
    "        external_links.append(link_url)                           "
   ]
  },
  {
   "cell_type": "code",
   "execution_count": 74,
   "id": "b34972e8",
   "metadata": {},
   "outputs": [
    {
     "data": {
      "text/plain": [
       "['https://www.berlin.de',\n",
       " 'https://twitter.com/RegBerlin',\n",
       " 'https://www.facebook.com/RegBerlin/',\n",
       " 'https://www.instagram.com/regberlin/',\n",
       " 'https://www.linkedin.com/company/regberlin/']"
      ]
     },
     "execution_count": 74,
     "metadata": {},
     "output_type": "execute_result"
    }
   ],
   "source": [
    "external_links[:5]"
   ]
  },
  {
   "cell_type": "code",
   "execution_count": 75,
   "id": "f0868003",
   "metadata": {},
   "outputs": [
    {
     "data": {
      "text/plain": [
       "['/rbmskzl',\n",
       " '/rbmskzl/leichte-sprache/',\n",
       " '/rbmskzl/gebaerdensprache/',\n",
       " '/rbmskzl/barrierefreiheitserklaerung.879589.php',\n",
       " '/rbmskzl/barrierefreiheitserklaerung.879589.php#contactbfe']"
      ]
     },
     "execution_count": 75,
     "metadata": {},
     "output_type": "execute_result"
    }
   ],
   "source": [
    "internal_links[:5]"
   ]
  },
  {
   "cell_type": "markdown",
   "id": "1557b132",
   "metadata": {},
   "source": [
    "*To be continued*"
   ]
  }
 ],
 "metadata": {
  "kernelspec": {
   "display_name": "Python 3 (ipykernel)",
   "language": "python",
   "name": "python3"
  },
  "language_info": {
   "codemirror_mode": {
    "name": "ipython",
    "version": 3
   },
   "file_extension": ".py",
   "mimetype": "text/x-python",
   "name": "python",
   "nbconvert_exporter": "python",
   "pygments_lexer": "ipython3",
   "version": "3.9.13"
  }
 },
 "nbformat": 4,
 "nbformat_minor": 5
}
