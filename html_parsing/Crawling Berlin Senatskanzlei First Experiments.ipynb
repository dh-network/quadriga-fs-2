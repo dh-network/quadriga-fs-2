{
 "cells": [
  {
   "cell_type": "code",
   "execution_count": 4,
   "id": "600d3ffe",
   "metadata": {},
   "outputs": [],
   "source": [
    "import requests"
   ]
  },
  {
   "cell_type": "code",
   "execution_count": 5,
   "id": "6e94ceb8",
   "metadata": {},
   "outputs": [],
   "source": [
    "from bs4 import BeautifulSoup"
   ]
  },
  {
   "cell_type": "markdown",
   "id": "08044f02",
   "metadata": {},
   "source": [
    "### Retrieve and save HTML"
   ]
  },
  {
   "cell_type": "code",
   "execution_count": 6,
   "id": "8319d8b7",
   "metadata": {},
   "outputs": [],
   "source": [
    "url = \"https://www.berlin.de/rbmskzl/\""
   ]
  },
  {
   "cell_type": "code",
   "execution_count": 7,
   "id": "c640ecf8",
   "metadata": {},
   "outputs": [],
   "source": [
    "response = requests.get(url)"
   ]
  },
  {
   "cell_type": "code",
   "execution_count": 8,
   "id": "af2263bb",
   "metadata": {},
   "outputs": [
    {
     "data": {
      "text/plain": [
       "200"
      ]
     },
     "execution_count": 8,
     "metadata": {},
     "output_type": "execute_result"
    }
   ],
   "source": [
    "response.status_code"
   ]
  },
  {
   "cell_type": "code",
   "execution_count": 9,
   "id": "cb5d0a5a",
   "metadata": {},
   "outputs": [],
   "source": [
    "html_text = response.text"
   ]
  },
  {
   "cell_type": "code",
   "execution_count": 10,
   "id": "75f83b6f",
   "metadata": {},
   "outputs": [
    {
     "data": {
      "text/plain": [
       "'<!doctype html>\\n<html xmlns=\"http://www.w3.org/1999/xhtml\" xml:lang=\"de\" lang=\"de\">\\n<head prefix=\"og'"
      ]
     },
     "execution_count": 10,
     "metadata": {},
     "output_type": "execute_result"
    }
   ],
   "source": [
    "html_text[:100]"
   ]
  },
  {
   "cell_type": "code",
   "execution_count": 11,
   "id": "2e731fd9",
   "metadata": {},
   "outputs": [],
   "source": [
    "with open('berlin_rbmskzl_main_page.html', 'w') as openfile:\n",
    "    openfile.write(html_text)"
   ]
  },
  {
   "cell_type": "markdown",
   "id": "e4f554e8",
   "metadata": {},
   "source": [
    "### Parse HTML (strukturierte parsen, one page)"
   ]
  },
  {
   "cell_type": "code",
   "execution_count": 12,
   "id": "09a1b437",
   "metadata": {},
   "outputs": [],
   "source": [
    "with open('berlin_rbmskzl_main_page.html') as openfile:\n",
    "    html_text = openfile.read()"
   ]
  },
  {
   "cell_type": "code",
   "execution_count": 13,
   "id": "46a114e3",
   "metadata": {},
   "outputs": [],
   "source": [
    "soup = BeautifulSoup(html_text)"
   ]
  },
  {
   "cell_type": "markdown",
   "id": "81b004b8",
   "metadata": {},
   "source": [
    "#### 1. Parse the top news section of the website\n",
    "\n",
    "![berlin_de_top](berlin_de_top.png)"
   ]
  },
  {
   "cell_type": "markdown",
   "id": "d1da3659",
   "metadata": {},
   "source": [
    "If we inspect the unredlying HTML code, we'll see that it is in a `<div>` element with a CSS class `'herounit-homepage herounit-homepage--default'`. Let's retrieve this div using BeautifulSoup syntax:"
   ]
  },
  {
   "cell_type": "code",
   "execution_count": 14,
   "id": "cb944c77",
   "metadata": {},
   "outputs": [],
   "source": [
    "topdiv = soup.find(\"div\", {\"class\": \"herounit-homepage herounit-homepage--default\"})"
   ]
  },
  {
   "cell_type": "code",
   "execution_count": 15,
   "id": "011c4adb",
   "metadata": {},
   "outputs": [
    {
     "data": {
      "text/plain": [
       "bs4.element.Tag"
      ]
     },
     "execution_count": 15,
     "metadata": {},
     "output_type": "execute_result"
    }
   ],
   "source": [
    "type(topdiv)"
   ]
  },
  {
   "cell_type": "code",
   "execution_count": 16,
   "id": "eeefa88c",
   "metadata": {},
   "outputs": [
    {
     "name": "stdout",
     "output_type": "stream",
     "text": [
      "<div class=\"herounit-homepage herounit-homepage--default\">\n",
      " <h1 class=\"title\">\n",
      "  Der Regierende Bürgermeister von Berlin - Senatskanzlei\n",
      " </h1>\n",
      " <div class=\"modul-buehne buehne--tileslayout\">\n",
      "  <ul class=\"buhne__list--teaser\">\n",
      "   <li>\n",
      "    <div class=\"modul-teaser_buehne\" data-add-clickable-area=\"smart\">\n",
      "     <div class=\"teaser_buehne__left\">\n",
      "      <div class=\"image\">\n",
      "       <!-- Image.view -->\n",
      "       <div class=\"image__image image__image\" style=\"\">\n",
      "        <img alt=\"Kai Wegner begrüßt Italiens Präsidenten Sergio Mattarella am 27.09.2024\" class=\"jpg\" data-orig=\"/rbmskzl/aktuelles/media/crop_nan_653_nan_340.48333740234375_1500_1000_54ccaad2ef03c22d8972e5b4746e29dc_p1_06454.jpg\" loading=\"lazy\" src=\"/imgscaler/yWuwttGbcIvWYHeN-MVnduJIEruYklTI1VYn1G_jO0w/rbig2zu1/L3N5czExLXByb2QvcmJtc2t6bC9ha3R1ZWxsZXMvbWVkaWEvY3JvcF9uYW5fNjUzX25hbl8zNDAuNDgzMzM3NDAyMzQzNzVfMTUwMF8xMDAwXzU0Y2NhYWQyZWYwM2MyMmQ4OTcyZTViNDc0NmUyOWRjX3AxXzA2NDU0LmpwZw.jpg?ts=1727715705\"/>\n",
      "       </div>\n",
      "       <p class=\"image__copyright\">\n",
      "        Bild: Landesarchiv Berlin / Grönboldt\n",
      "       </p>\n",
      "       <!-- /Image.view -->\n",
      "      </div>\n",
      "     </div>\n",
      "     <div class=\"teaser_buehne__right\">\n",
      "      <div class=\"inner\">\n",
      "       <h2 class=\"title\">\n",
      "        Kai Wegner begrüßt Italiens Präsidenten Sergio Mattarella\n",
      "       </h2>\n",
      "       <p class=\"text\">\n",
      "        Der Regierende Bürgermeister begrüßte den italienischen Präsidenten und seine Frau in Berlin am Brandenburger Tor.\n",
      "       </p>\n",
      "       <span class=\"action\">\n",
      "        <a aria-label=\"Link zu: Kai Wegner begrüßt Italiens Präsidenten Sergio Mattarella\" class=\"more\" href=\"/rbmskzl/aktuelles/media/kai-wegner-begruesst-italiens-praesidenten-sergio-mattarella-1490034.php\" title=\" Kai Wegner begrüßt Italiens Präsidenten Sergio Mattarella\">\n",
      "         Weitere Informationen\n",
      "        </a>\n",
      "       </span>\n",
      "       <span class=\"image__copyright\">\n",
      "        <strong>\n",
      "         Bild:\n",
      "        </strong>\n",
      "        Landesarchiv Berlin / Grönboldt\n",
      "       </span>\n",
      "      </div>\n",
      "     </div>\n",
      "     <li>\n",
      "      <div class=\"modul-teasertile_buehne\" data-add-clickable-area=\"full\">\n",
      "       <h2 class=\"title\">\n",
      "        Wegner empfängt Jerusalemer Bürgermeister\n",
      "       </h2>\n",
      "       <p class=\"text\">\n",
      "        Kai Wegner, empfing am 26. September den Bürgermeister von Jerusalem, Mosche Lion.\n",
      "       </p>\n",
      "       <span class=\"action\">\n",
      "        <a aria-label=\"Link zu: Wegner empfängt Jerusalemer Bürgermeister\" class=\"more\" href=\"/rbmskzl/aktuelles/media/kai-wegner-empfaengt-jerusalems-buergermeister-mosch-lion-1489224.php\" title=\"Wegner empfängt Jerusalemer Bürgermeister\">\n",
      "         Weitere Informationen\n",
      "        </a>\n",
      "       </span>\n",
      "      </div>\n",
      "     </li>\n",
      "     <li>\n",
      "      <div class=\"modul-teasertile_buehne\" data-add-clickable-area=\"full\">\n",
      "       <h2 class=\"title\">\n",
      "        Kai Wegner vor Ort\n",
      "       </h2>\n",
      "       <p class=\"text\">\n",
      "        Der Regierende Bürgermeister besucht am 28. Oktober den Bezirk Kreuzberg-Friedrichshain und stellt sich den Fragen der Berlinerinnen und Berliner. Melden Sie sich an!\n",
      "       </p>\n",
      "       <span class=\"action\">\n",
      "        <a aria-label=\"Link zu: Kai Wegner vor Ort\" class=\"more\" href=\"/rbmskzl/aktuelles/veranstaltungen/kai-wegner-vor-ort/\" title=\"Kai Wegner vor Ort\">\n",
      "         Weitere Informationen\n",
      "        </a>\n",
      "       </span>\n",
      "      </div>\n",
      "     </li>\n",
      "     <li>\n",
      "      <div class=\"modul-teasertile_buehne\" data-add-clickable-area=\"full\">\n",
      "       <h2 class=\"title\">\n",
      "        Fokusthemen\n",
      "       </h2>\n",
      "       <p class=\"text\">\n",
      "        Berlin steht vor diversen gesellschaftlichen Herausforderungen. Der Berliner Senat setzt einen Fokus auf sechs Themenschwerpunkte.\n",
      "       </p>\n",
      "       <span class=\"action\">\n",
      "        <a aria-label=\"Link zu: Fokusthemen\" class=\"more\" href=\"/rbmskzl/fokusthemen/\" title=\"Fokusthemen\">\n",
      "         Weitere Informationen\n",
      "        </a>\n",
      "       </span>\n",
      "      </div>\n",
      "     </li>\n",
      "    </div>\n",
      "   </li>\n",
      "  </ul>\n",
      " </div>\n",
      "</div>\n",
      "\n"
     ]
    }
   ],
   "source": [
    "print(topdiv.prettify())"
   ]
  },
  {
   "cell_type": "code",
   "execution_count": 17,
   "id": "d37511e7",
   "metadata": {},
   "outputs": [],
   "source": [
    "topdiv_h2titles = topdiv.find_all('h2')"
   ]
  },
  {
   "cell_type": "code",
   "execution_count": 18,
   "id": "b4c79857",
   "metadata": {},
   "outputs": [
    {
     "data": {
      "text/plain": [
       "[<h2 class=\"title\"> Kai Wegner begrüßt Italiens Präsidenten Sergio Mattarella</h2>,\n",
       " <h2 class=\"title\">Wegner empfängt Jerusalemer Bürgermeister</h2>,\n",
       " <h2 class=\"title\">Kai Wegner vor Ort</h2>,\n",
       " <h2 class=\"title\">Fokusthemen</h2>]"
      ]
     },
     "execution_count": 18,
     "metadata": {},
     "output_type": "execute_result"
    }
   ],
   "source": [
    "topdiv_h2titles"
   ]
  },
  {
   "cell_type": "code",
   "execution_count": 19,
   "id": "b441ce54",
   "metadata": {},
   "outputs": [],
   "source": [
    "topdiv_texts =  topdiv.find_all('p', {\"class\":\"text\"})"
   ]
  },
  {
   "cell_type": "code",
   "execution_count": 20,
   "id": "6a267be6",
   "metadata": {},
   "outputs": [
    {
     "data": {
      "text/plain": [
       "[<p class=\"text\">\n",
       "                     Der Regierende Bürgermeister begrüßte den italienischen Präsidenten und seine Frau in Berlin am Brandenburger Tor.                        </p>,\n",
       " <p class=\"text\">\n",
       "                 Kai Wegner, empfing am 26. September den Bürgermeister von Jerusalem, Mosche Lion.                        </p>,\n",
       " <p class=\"text\">\n",
       "                 Der Regierende Bürgermeister besucht am 28. Oktober den Bezirk Kreuzberg-Friedrichshain und stellt sich den Fragen der Berlinerinnen und Berliner. Melden Sie sich an!                        </p>,\n",
       " <p class=\"text\">\n",
       "                 Berlin steht vor diversen gesellschaftlichen Herausforderungen. Der Berliner Senat setzt einen Fokus auf sechs Themenschwerpunkte.                        </p>]"
      ]
     },
     "execution_count": 20,
     "metadata": {},
     "output_type": "execute_result"
    }
   ],
   "source": [
    "topdiv_texts"
   ]
  },
  {
   "cell_type": "code",
   "execution_count": 21,
   "id": "8646b49a",
   "metadata": {},
   "outputs": [],
   "source": [
    "topdiv_texts = [x.text.strip() for x in topdiv_texts]"
   ]
  },
  {
   "cell_type": "code",
   "execution_count": 22,
   "id": "e308d9c8",
   "metadata": {},
   "outputs": [
    {
     "data": {
      "text/plain": [
       "['Der Regierende Bürgermeister begrüßte den italienischen Präsidenten und seine Frau in Berlin am Brandenburger Tor.',\n",
       " 'Kai Wegner, empfing am 26. September den Bürgermeister von Jerusalem, Mosche Lion.',\n",
       " 'Der Regierende Bürgermeister besucht am 28. Oktober den Bezirk Kreuzberg-Friedrichshain und stellt sich den Fragen der Berlinerinnen und Berliner. Melden Sie sich an!',\n",
       " 'Berlin steht vor diversen gesellschaftlichen Herausforderungen. Der Berliner Senat setzt einen Fokus auf sechs Themenschwerpunkte.']"
      ]
     },
     "execution_count": 22,
     "metadata": {},
     "output_type": "execute_result"
    }
   ],
   "source": [
    "topdiv_texts"
   ]
  },
  {
   "cell_type": "code",
   "execution_count": 23,
   "id": "fb26468a",
   "metadata": {},
   "outputs": [],
   "source": [
    "topdiv_h2titles = [x.text.strip() for x in topdiv_h2titles]"
   ]
  },
  {
   "cell_type": "code",
   "execution_count": 24,
   "id": "df720ad9",
   "metadata": {},
   "outputs": [],
   "source": [
    "resulting_data = []\n",
    "\n",
    "for i, text in enumerate(topdiv_texts):\n",
    "    new_entry = {}\n",
    "    new_entry['title'] = topdiv_h2titles[i]\n",
    "    new_entry['text'] = text\n",
    "    resulting_data.append(new_entry)"
   ]
  },
  {
   "cell_type": "code",
   "execution_count": 25,
   "id": "3596bd6d",
   "metadata": {},
   "outputs": [
    {
     "data": {
      "text/plain": [
       "[{'title': 'Kai Wegner begrüßt Italiens Präsidenten Sergio Mattarella',\n",
       "  'text': 'Der Regierende Bürgermeister begrüßte den italienischen Präsidenten und seine Frau in Berlin am Brandenburger Tor.'},\n",
       " {'title': 'Wegner empfängt Jerusalemer Bürgermeister',\n",
       "  'text': 'Kai Wegner, empfing am 26. September den Bürgermeister von Jerusalem, Mosche Lion.'},\n",
       " {'title': 'Kai Wegner vor Ort',\n",
       "  'text': 'Der Regierende Bürgermeister besucht am 28. Oktober den Bezirk Kreuzberg-Friedrichshain und stellt sich den Fragen der Berlinerinnen und Berliner. Melden Sie sich an!'},\n",
       " {'title': 'Fokusthemen',\n",
       "  'text': 'Berlin steht vor diversen gesellschaftlichen Herausforderungen. Der Berliner Senat setzt einen Fokus auf sechs Themenschwerpunkte.'}]"
      ]
     },
     "execution_count": 25,
     "metadata": {},
     "output_type": "execute_result"
    }
   ],
   "source": [
    "resulting_data"
   ]
  },
  {
   "cell_type": "markdown",
   "id": "912346be",
   "metadata": {},
   "source": [
    "### Parse HTML for links"
   ]
  },
  {
   "cell_type": "code",
   "execution_count": 71,
   "id": "5dc72051",
   "metadata": {},
   "outputs": [],
   "source": [
    "links = soup.find_all('a', href=True)"
   ]
  },
  {
   "cell_type": "code",
   "execution_count": 72,
   "id": "0feaf415",
   "metadata": {},
   "outputs": [
    {
     "data": {
      "text/plain": [
       "<a href=\"/rbmskzl\" title='Startseite von \"Der Regierende Bürgermeister Senatskanzlei\"'><span class=\"institution\">Der Regierende Bürgermeister</span><span class=\"title\">Senatskanzlei</span></a>"
      ]
     },
     "execution_count": 72,
     "metadata": {},
     "output_type": "execute_result"
    }
   ],
   "source": [
    "links[1]"
   ]
  },
  {
   "cell_type": "markdown",
   "id": "3852ca72",
   "metadata": {},
   "source": [
    "Separate internal and external links"
   ]
  },
  {
   "cell_type": "code",
   "execution_count": 73,
   "id": "06f65b86",
   "metadata": {},
   "outputs": [],
   "source": [
    "internal_links = []\n",
    "external_links = []\n",
    "\n",
    "for link in links:\n",
    "    link_url = link['href']\n",
    "    if link_url.startswith('/'):\n",
    "        internal_links.append(link_url)\n",
    "    else:\n",
    "        external_links.append(link_url)                           "
   ]
  },
  {
   "cell_type": "code",
   "execution_count": 74,
   "id": "b34972e8",
   "metadata": {},
   "outputs": [
    {
     "data": {
      "text/plain": [
       "['https://www.berlin.de',\n",
       " 'https://twitter.com/RegBerlin',\n",
       " 'https://www.facebook.com/RegBerlin/',\n",
       " 'https://www.instagram.com/regberlin/',\n",
       " 'https://www.linkedin.com/company/regberlin/']"
      ]
     },
     "execution_count": 74,
     "metadata": {},
     "output_type": "execute_result"
    }
   ],
   "source": [
    "external_links[:5]"
   ]
  },
  {
   "cell_type": "code",
   "execution_count": 75,
   "id": "f0868003",
   "metadata": {},
   "outputs": [
    {
     "data": {
      "text/plain": [
       "['/rbmskzl',\n",
       " '/rbmskzl/leichte-sprache/',\n",
       " '/rbmskzl/gebaerdensprache/',\n",
       " '/rbmskzl/barrierefreiheitserklaerung.879589.php',\n",
       " '/rbmskzl/barrierefreiheitserklaerung.879589.php#contactbfe']"
      ]
     },
     "execution_count": 75,
     "metadata": {},
     "output_type": "execute_result"
    }
   ],
   "source": [
    "internal_links[:5]"
   ]
  },
  {
   "cell_type": "markdown",
   "id": "1557b132",
   "metadata": {},
   "source": [
    "*To be continued*"
   ]
  }
 ],
 "metadata": {
  "kernelspec": {
   "display_name": "Python 3 (ipykernel)",
   "language": "python",
   "name": "python3"
  },
  "language_info": {
   "codemirror_mode": {
    "name": "ipython",
    "version": 3
   },
   "file_extension": ".py",
   "mimetype": "text/x-python",
   "name": "python",
   "nbconvert_exporter": "python",
   "pygments_lexer": "ipython3",
   "version": "3.9.13"
  }
 },
 "nbformat": 4,
 "nbformat_minor": 5
}
